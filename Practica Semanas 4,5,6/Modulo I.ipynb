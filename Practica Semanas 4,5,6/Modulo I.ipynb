{
 "cells": [
  {
   "cell_type": "markdown",
   "metadata": {},
   "source": [
    "# Actividades de clase, semanas 4, 5 y 6."
   ]
  },
  {
   "cell_type": "markdown",
   "metadata": {},
   "source": [
    "La practica consta de 3 módulos, el objetivo es afianzar los conceptos vistos sobre transformaciones afines de la imagen, transformaciones no lineales e introducir los conceptos de convolución y ruido, encontrarán actividades para los módulos I y II, y una introducción al módulo III, que se extenderá hasta el día martes 25 de junio.\n",
    "\n",
    "## Ayuda: Recuerde descargar el repositorio de GitHub del curso, donde estan los notebooks actualizados e implementaciones en python3.\n",
    "\n",
    "## Aunque el ejercicio explícitamente no lo indique, recuerde que debe dar una breve conclusión de cada uno de los resultados obtenidos al finalizar cada punto."
   ]
  },
  {
   "cell_type": "markdown",
   "metadata": {},
   "source": [
    "# Módulo I\n",
    "\n",
    "## 1.\n",
    "\n",
    "Lea la imagen \"gato.jpg\" que se encuentra en la carpeta \"res\", en escala de grises.\n",
    "\n",
    "A continuación, mediante transformaciones geométricas de reflexión y rotación obtenga lo siguiente:\n",
    "\n",
    "<img src=\"res/transformacion.png\">\n",
    "\n",
    "NOTA: Usted debe presentar dos resultados, uno de ellos aplicando una reflexión directamente, y el otro aplicando una rotación inicialmente."
   ]
  },
  {
   "cell_type": "import matplotlib.pyplot as plt
import numpy as np
import cv2 
from skimage import data, filters, util, io
from skimage.morphology import disk
from skimage.transform import resize",
   "execution_count": null,
   "metadata": {},
   "outputs": [],
   "source": [
    "## Inserte codigo aquí"
   ]
  },
  {
   "cell_type": "markdown",
   "metadata": {},
   "source": [
    "## 2.\n",
    "\n",
    "Utilice la imagen obtenida en el primer punto, a continuación, mediante la transformación inclinación, con ix = iy = -0.2, obtenga:\n",
    "\n",
    "<img src = \"res/incli.png\">\n",
    "\n",
    "Ayuda: Recuerde que la matriz afin de inclinación, viene dada por:\n",
    "\n",
    "<img src = \"res/mat.png\">\n",
    "\n",
    "Adicionalmente, recuerde que para aplicar la transformación afín sobre la imagen, puede utilizar la función de OpenCv, \"cv2.warpAffine\""
   ]
  },
  {
   "cell_type": "code",
   "execution_count": null,
   "metadata": {},
   "outputs": [],
   "source": [
    "## Inserte codigo aquí"
   ]
  },
  {
   "cell_type": "markdown",
   "metadata": {},
   "source": [
    "## 3.\n",
    "\n",
    "Utilizando la imagen obtenida, en el punto 2, lea la imagen \"mascara2.png\" que se encuentra en la carpeta \"res\", a continuación utilice una operación entre imágenes para obtener la imagen que se muestra a continuación:\n",
    "\n",
    "<img src = \"res/ress.png\">\n",
    "\n",
    "Posteriormente, mediante una operación rotación obtenga:\n",
    "\n",
    "<img src = \"res/rot2.png\">\n",
    "\n",
    "Finalmente, pruebe rotando primero la imagen y posteriormente aplicando la operación. ¿Son los resultados iguales? ¿Qué puede concluir al respecto?"
   ]
  },
  {
   "cell_type": "code",
   "execution_count": null,
   "metadata": {},
   "outputs": [],
   "source": [
    "## Inserte codigo aquí"
   ]
  }
 ],
 "metadata": {
  "kernelspec": {
   "display_name": "Python 3",
   "language": "python",
   "name": "python3"
  },
  "language_info": {
   "codemirror_mode": {
    "name": "ipython",
    "version": 3
   },
   "file_extension": ".py",
   "mimetype": "text/x-python",
   "name": "python",
   "nbconvert_exporter": "python",
   "pygments_lexer": "ipython3",
   "version": "3.7.3"
  }
 },
 "nbformat": 4,
 "nbformat_minor": 2
}
