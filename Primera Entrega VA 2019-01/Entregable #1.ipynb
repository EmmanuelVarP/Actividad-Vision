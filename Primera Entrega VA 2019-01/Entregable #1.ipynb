{
 "cells": [
  {
   "cell_type": "markdown",
   "metadata": {},
   "source": [
    "<font size = 8 color = BLACK><b> Actividades primer entregable VA 2019-01  </b></font>\n",
    "\n",
    "Este notebook contiene, un conjunto de actividades que cada grupo debe desarrollar para reforzar y fortalecer los conceptos de Adquisición de la imagen, Teoría de espacios del color y Transformación de la imagen.\n",
    "\n",
    "\n",
    "<font size = 6 color = red> <b>FORMATO DE ENTREGA: </b></font>\n",
    "\n",
    "<br>El encabezado del trabajo, antes del título debe contener los nombres de los integrantes y el grupo asignado (por ejemplo, G10). </br>\n",
    "\n",
    "<br>Cada grupo debe entregar el archivo con extensión .ipynb hecho en JUPYTER NOTEBOOK, y la carpeta llamada \"res\" que encontrará junto a este archivo, que contiene imágenes que debe utilizar para resolver los diferentes módulos y donde, debe añadir las imágenes que usted adquiera. </br>\n",
    "\n",
    "<b><font size = 4> Cualquier entregable que contenga imágenes fuera de la carpeta de recursos asignada para éstas, carpetas adicionales u otras modificaciones, no se tendrá en cuenta.</b></font>\n",
    "\n",
    "<br> El entregable debe subirse como repositorio a la página GitHub y enviarse el link de éste a <b> todos </b> los correos listados: </br>\n",
    "\n",
    "<br><b>jwbranch@unal.edu.co, alceballosa@unal.edu.co, jaiarodriguezrod@unal.edu.co</b></br>\n",
    "\n",
    "<font size = 6 color = red> <b>FECHA LÍMITE DE ENTREGA: Jueves 13 de Junio a media noche.</b> </font>\n",
    "\n",
    "<b><font size = 4> Cualquier entregable que sea recibido en los correos listados, después de la fecha límite, no se tendrá en cuenta.</b></font>"
   ]
  },
  {
   "cell_type": "markdown",
   "metadata": {},
   "source": [
    "Recuerden, pueden buscar todas y cada una de las implementaciones en Python, utilizando OpenCv, descargando el repositorio del curso, consultando la información consignada en las semanas 1 a la 4.\n",
    "\n",
    "<br><b><font size = 6> https://github.com/alceballosa/Vision-Artificial-2019-01</b></font></br>"
   ]
  },
  {
   "cell_type": "markdown",
   "metadata": {},
   "source": [
    "<font size = 6 color = blue><b><center> MÓDULO I </center></b></font>"
   ]
  },
  {
   "cell_type": "markdown",
   "metadata": {},
   "source": [
    "Módulo de adquisición, el objetivo de los ejercicios propuestos es el fortalecimiento de las habilidades de toma de la imagen y manejo de la información contenida en la misma, asímismo, estudiar y mejorar los conceptos de espacio y canal de color.\n",
    "\n",
    "# 1)\n",
    "## a)\n",
    "\n",
    "No todas las imágenes son adquiridas con un dispositivo electrónico, algunas pueden ser generadas virtualmente y permiten el análisis y obtención de información, como las simulaciones.\n",
    "\n",
    "<br> Cree una imagen de 400x400 píxeles, divídala en rectángulos de 400x100, y píntelos como se muestra a continuación: </br>\n",
    "\n",
    "<img src = res/colores.png>\n",
    "\n",
    "Muestre ésta imagen utilizando el comando plt.imshow, y explique el método que utilizó para crearla.\n",
    "\n",
    "## b)\n",
    "\n",
    "Lea la imagen en los canales R,G y B del espacio de color RGB, asímismo con los canales L,A, B del espacio de color LAB.\n",
    "\n",
    "<br> Muestre, la imagen en los 6 canales con el respectivo histograma asociado. </br>\n",
    "\n",
    "<br> Concluya, respecto a TODOS y cada uno de los canales por separado, qué observa. Recuerde justificar sus observaciones con las relaciones entre los espacios de color y la información consignada en los histogramas respectivos. </br>\n",
    "\n",
    "## c)\n",
    "\n",
    "Lea la imagen \"eiffel.jpg\" que se encuentra en la carpeta \"res\", redimensionela a 800x600 píxeles, muestre la imagen y su histograma asociado.\n",
    "\n",
    "<br> Lea la imagen en el espacio de color HSV, posteriormente separe los canales H,S y V. Muestre cada uno de estos canales junto a su histograma asociado, explique, qué observa en cada canal. Recuerde que el espacio de color HSV, es un espacio de Matiz(tonalidad, tinte), Saturación y Brillo. ¿Considera usted que sería fácil separar la torre Eiffel del fondo, con alguno de  estos canales? Justifique.</br>\n",
    "\n",
    "Para más información del canal HSV: https://www.ecured.cu/Modelo_HSV\n",
    "\n",
    "# 2)\n",
    "\n",
    "Realice un montaje simple para controlar la iluminación de un objeto, uno muy fácil consta colocar una caja sobre el objeto, bloqueando toda la luz que pueda llegar a este, posteriormente realizar un pequeño agujero en la parte superior de la caja, tal que pueda ubicar su celular con flash (o la cámara que esté utilizando), con esto asegura que la única fuente de iluminación que existirá en su toma, es el flash del dispositivo. \n",
    "\n",
    "<br><b> Realice las siguientes actividades: </b></br>\n",
    "\n",
    "<br>1. Tome una fotografía del montaje realizado, así como el objeto que va a utilizar, en condiciones no controladas de iluminación, súbalas a la carpeta \"res\" y posteriormente muestrelas con plt.imshow, NO NECESITA MOSTRAR LOS HISTOGRAMAS. </br>\n",
    "\n",
    "<br>2. Realice una descripción completa de su montaje, recuerde que un buen proceso de adquisición comienza con una metodología organizada y correcta de toma de datos. Por lo tanto, debe estandarizar su sistema lo mejor que pueda, en este caso particular simple, usted debe dar cuenta de: \n",
    "\n",
    "<br><b> Las dimensiones de la caja, las dimensiones del objeto que va a fotografiar (recuerde que si es un objeto irregular, puede dar un aproximado de la mínima caja rectangular que contiene dicho objeto), el radio del agujero, la distancia entre el agujero donde coloca el lente del celular y el objeto (debe reportar este valor centímetros y adicionalmente en términos de la altura de la caja, por ejemplo, 3/4 de la altura de esta), el dispositivo con el cual realizó la adquisición (celular, cámara, etc), la caracterización del sensor del dispositivo (megapixeles, especificar si utilizó algún lente, características del fabricante, entre otros), finalmente, dado que las dimensiones del montaje no deberían ser muy grandes, reporte las medidas de distancias y tamaños en centímetros. </b></br>\n",
    "\n",
    "<br> 3. Tome fotografías al objeto de estudio, el objetivo es disminuir el efecto de las sombras del objeto, es decir, resaltar únicamente los <b>colores</b> sobre la imagen, esto implica un análisis de espacios de color. Observe la imagen sobre los canales que considere más pertinentes para este trabajo. Justifique su elección basándose en la información de los histogramas y la que puede visualizarse en el canal elegido. \n",
    "\n",
    "### Sugerencia: Puede escoger las dos o tres mejores fotografías y analizarlas por separado, puede utilizar un fondo homogéneo. Recuerde que todas las imágenes que utilice deben ir en la carpeta \"res\"."
   ]
  },
  {
   "cell_type": "markdown",
   "metadata": {},
   "source": [
    "<font size = 6 color = blue><b><center> MÓDULO II </center></b></font>"
   ]
  },
  {
   "cell_type": "markdown",
   "metadata": {},
   "source": [
    "El objetivo de este módulo es entender y aplicar los conceptos de modificación del histograma, su manipulación y las transformaciones básicas de una imagen y entre imágenes.\n",
    "\n",
    "# 1)\n",
    "\n",
    "Lea la imagen \"col.png\" y la imagen \"jap.png\" que se encuentran en la carpeta \"res\", muestrelas con plt.imshow. NO es necesario mostrar sus histogramas.\n",
    "\n",
    "## a)\n",
    "\n",
    "<br> A continuación, se presenta una transformación sobre ambas imágenes </br>\n",
    "\n",
    "# <center> $ G(x,y) = (1-k)*I1(x,y) + k*I2(x,y) $ </center>\n",
    "\n",
    "# <center> $ 0 < k < 1 $ </center>\n",
    "\n",
    "Realice un código que muestre esta transformación, posteriormente responda:\n",
    "\n",
    "<br> ¿Qué ocurre si k = 1, k = 0, k = 0.5? </br>\n",
    "\n",
    "<br> Recuerde que debe mostrar la imagen \"col.png\", \"jap.png\" y la imagen resultado de la transformación.\n",
    "\n",
    "## b)\n",
    "\n",
    "<br> Implemente la transformación: </br>\n",
    "# <center> $ G(x,y) = a*I1(x,y) + b $ </center>\n",
    " \n",
    "Donde I1(x,y) es la imagen \"col.png\", a & b son constantes.\n",
    "<br> ¿Qué ocurre si a=0 & b es cualquier valor? ¿Qué ocurre si a = 1 & b > 255? </br>\n",
    "<br> Experimente con algún valor arbitrario de a & b y explique su resultado.\n",
    "\n",
    "\n",
    "## Sugerencia: Las transformaciones sobre la imagen deben  aplicarse sobre los tres canales que componen el espacio de color, si aplica la transformación directamente sobre la imagen RGB, OpenCv modificará por defecto el canal rojo."
   ]
  },
  {
   "cell_type": "markdown",
   "metadata": {},
   "source": [
    "# 2)\n",
    "\n",
    "Una aplicación del operador suma, es la superposición de una imagen con bordes resaltados sobre otra.  A continuación se presenta una imagen de entrada, obtenga la silueta correspondiente a sus bordes y explique cómo la obtuvo:\n",
    "\n",
    "<img src=\"res/cat.png\" style=\"height:250px\"/>\n",
    "\n",
    "Lea la imagen \"gato.jpg\" que se encuentra en la carpeta \"res\". La silueta no necesariamente debe mostrarse en color magenta, puede utilizar cualquier otro color para resaltarla, tampoco debe hallar exactamente la misma silueta mostrada en la Imagen 2, con un aproximado del ejemplo, es suficiente.\n"
   ]
  }
 ],
 "metadata": {
  "kernelspec": {
   "display_name": "Python 3",
   "language": "python",
   "name": "python3"
  },
  "language_info": {
   "codemirror_mode": {
    "name": "ipython",
    "version": 3
   },
   "file_extension": ".py",
   "mimetype": "text/x-python",
   "name": "python",
   "nbconvert_exporter": "python",
   "pygments_lexer": "ipython3",
   "version": "3.7.3"
  }
 },
 "nbformat": 4,
 "nbformat_minor": 2
}
