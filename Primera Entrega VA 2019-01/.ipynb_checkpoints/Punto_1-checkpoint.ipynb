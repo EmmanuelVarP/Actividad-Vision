{
 "cells": [
  {
   "cell_type": "code",
   "execution_count": 2,
   "metadata": {},
   "outputs": [],
   "source": [
    "import numpy as np\n",
    "import cv2 as cv\n",
    "from matplotlib import pyplot as plt"
   ]
  },
  {
   "cell_type": "code",
   "execution_count": 3,
   "metadata": {},
   "outputs": [
    {
     "data": {
      "image/png": "[encoded data removed]",
      "text/plain": [
       "<Figure size 432x288 with 1 Axes>"
      ]
     },
     "metadata": {
      "needs_background": "light"
     },
     "output_type": "display_data"
    }
   ],
   "source": [
    "img_add=np.zeros((400,400,3),np.uint8)\n",
    "for i in range(0,400):\n",
    "  for j in range(0,400):\n",
    "    if j <= 100:\n",
    "      img_add[i,j,0]=255\n",
    "      img_add[i,j,1]=255\n",
    "      img_add[i,j,2]=0\n",
    "    elif j > 100 and j <= 200:\n",
    "      img_add[i,j,0]=27\n",
    "      img_add[i,j,1]=214\n",
    "      img_add[i,j,2]=228\n",
    "    elif j > 200 and j <= 300:\n",
    "      img_add[i,j,0]=255\n",
    "    elif j > 300 and j <= 400:\n",
    "      img_add[i,j,1]=255\n",
    "\n",
    "plt.imshow(img_add)\n",
    "#plt.xticks([]), plt.yticks([])   to hide tick values on X and Y axis\n",
    "plt.show()"
   ]
  }
 ],
 "metadata": {
  "kernelspec": {
   "display_name": "Python 3",
   "language": "python",
   "name": "python3"
  },
  "language_info": {
   "codemirror_mode": {
    "name": "ipython",
    "version": 3
   },
   "file_extension": ".py",
   "mimetype": "text/x-python",
   "name": "python",
   "nbconvert_exporter": "python",
   "pygments_lexer": "ipython3",
   "version": "3.7.1"
  }
 },
 "nbformat": 4,
 "nbformat_minor": 2
}
