{
 "cells": [
  {
   "cell_type": "code",
   "execution_count": 2,
   "metadata": {},
   "outputs": [],
   "source": [
    "import numpy as np\n",
    "import cv2 as cv\n",
    "from matplotlib import pyplot as plt"
   ]
  },
  {
   "cell_type": "markdown",
   "metadata": {},
   "source": [
    "# Visualizamos la imagen dada y a partir de la regla externa generada por nostros determinamos los pixeles de interes que nos pueden dar información relevante sobre los colores."
   ]
  },
  {
   "cell_type": "code",
   "execution_count": 5,
   "metadata": {},
   "outputs": [
    {
     "data": {
      "image/png": "[encoded data removed]",
      "text/plain": [
       "<Figure size 432x288 with 1 Axes>"
      ]
     },
     "metadata": {
      "needs_background": "light"
     },
     "output_type": "display_data"
    }
   ],
   "source": [
    "img = cv.imread(\"res/colores.png\",1)\n",
    "img = cv.cvtColor(img, cv.COLOR_BGR2RGB)\n",
    "plt.imshow(img, interpolation = 'bicubic')\n",
    "plt.show()"
   ]
  },
  {
   "cell_type": "markdown",
   "metadata": {},
   "source": [
    "# Procedemos a sustraer la información de algun pixel en los tres canales para cada color de los 4 presentados, luego los almacenamos en las variables que se ven a continuación"
   ]
  },
  {
   "cell_type": "code",
   "execution_count": 15,
   "metadata": {},
   "outputs": [],
   "source": [
    "R1=(img[50,60,0])\n",
    "G1=(img[50,60,1])\n",
    "B1=(img[50,60,2])\n",
    "R2=(img[50,120,0])\n",
    "G2=(img[50,120,1])\n",
    "B2=(img[50,120,2])\n",
    "R3=(img[50,180,0])\n",
    "G3=(img[50,180,1])\n",
    "B3=(img[50,180,2])\n",
    "R4=(img[50,240,0])\n",
    "G4=(img[50,240,1])\n",
    "B4=(img[50,240,2])"
   ]
  },
  {
   "cell_type": "markdown",
   "metadata": {},
   "source": [
    "# Creamos una ciclo for anidado que recorre todas las tres matrices al tiempo para cada punto ij, luego condicionamos con activadores condicionales donde se registra un color especifico y donde no"
   ]
  },
  {
   "cell_type": "code",
   "execution_count": 19,
   "metadata": {},
   "outputs": [
    {
     "data": {
      "image/png": "[encoded data removed]",
      "text/plain": [
       "<Figure size 432x288 with 1 Axes>"
      ]
     },
     "metadata": {
      "needs_background": "light"
     },
     "output_type": "display_data"
    }
   ],
   "source": [
    "img_add=np.zeros((400,400,3),np.uint8)\n",
    "for i in range(0,400):\n",
    "  for j in range(0,400):\n",
    "    if j <= 100:\n",
    "      img_add[i,j,0]=R1\n",
    "      img_add[i,j,1]=G1\n",
    "      img_add[i,j,2]=B1\n",
    "    elif j > 100 and j <= 200:\n",
    "      img_add[i,j,0]=R2\n",
    "      img_add[i,j,1]=G2\n",
    "      img_add[i,j,2]=B2\n",
    "    elif j > 200 and j <= 300:\n",
    "      img_add[i,j,0]=R3\n",
    "      img_add[i,j,1]=G3\n",
    "      img_add[i,j,2]=B3\n",
    "    \n",
    "    elif j > 300 and j <= 400:\n",
    "      img_add[i,j,0]=R4\n",
    "      img_add[i,j,1]=G4\n",
    "      img_add[i,j,2]=B4\n",
    "\n",
    "plt.imshow(img_add)\n",
    "plt.show()"
   ]
  },
  {
   "cell_type": "markdown",
   "metadata": {},
   "source": [
    "# Finalmente obtenemos el resultado que es identico a la imagen que nos fue proveida inicialmente"
   ]
  },
  {
   "cell_type": "code",
   "execution_count": null,
   "metadata": {},
   "outputs": [],
   "source": []
  }
 ],
 "metadata": {
  "kernelspec": {
   "display_name": "Python 3",
   "language": "python",
   "name": "python3"
  },
  "language_info": {
   "codemirror_mode": {
    "name": "ipython",
    "version": 3
   },
   "file_extension": ".py",
   "mimetype": "text/x-python",
   "name": "python",
   "nbconvert_exporter": "python",
   "pygments_lexer": "ipython3",
   "version": "3.7.1"
  }
 },
 "nbformat": 4,
 "nbformat_minor": 2
}
